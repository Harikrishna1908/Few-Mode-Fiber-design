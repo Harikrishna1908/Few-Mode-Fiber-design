{
 "cells": [
  {
   "cell_type": "code",
   "execution_count": 1,
   "metadata": {},
   "outputs": [
    {
     "name": "stderr",
     "output_type": "stream",
     "text": [
      "d:\\Anaconda\\Lib\\site-packages\\pandas\\core\\arrays\\masked.py:60: UserWarning: Pandas requires version '1.3.6' or newer of 'bottleneck' (version '1.3.5' currently installed).\n",
      "  from pandas.core import (\n"
     ]
    }
   ],
   "source": [
    "import pandas as pd\n",
    "import sklearn\n",
    "import numpy as np\n",
    "import matplotlib.pyplot as plt\n",
    "from sklearn.model_selection import train_test_split\n",
    "from sklearn.linear_model import LinearRegression\n",
    "from sklearn.tree import DecisionTreeRegressor\n",
    "from sklearn.metrics import mean_absolute_error, mean_absolute_percentage_error, mean_squared_error,accuracy_score,r2_score"
   ]
  },
  {
   "cell_type": "markdown",
   "metadata": {},
   "source": [
    " Importing necessary libraries"
   ]
  },
  {
   "cell_type": "code",
   "execution_count": 2,
   "metadata": {},
   "outputs": [
    {
     "data": {
      "text/html": [
       "<div>\n",
       "<style scoped>\n",
       "    .dataframe tbody tr th:only-of-type {\n",
       "        vertical-align: middle;\n",
       "    }\n",
       "\n",
       "    .dataframe tbody tr th {\n",
       "        vertical-align: top;\n",
       "    }\n",
       "\n",
       "    .dataframe thead th {\n",
       "        text-align: right;\n",
       "    }\n",
       "</style>\n",
       "<table border=\"1\" class=\"dataframe\">\n",
       "  <thead>\n",
       "    <tr style=\"text-align: right;\">\n",
       "      <th></th>\n",
       "      <th>V number</th>\n",
       "      <th>R core</th>\n",
       "      <th>R cladding</th>\n",
       "      <th>n core</th>\n",
       "      <th>n cladding</th>\n",
       "      <th>NA</th>\n",
       "      <th>LP02effb</th>\n",
       "      <th>LP02effa</th>\n",
       "      <th>LP21effd</th>\n",
       "      <th>LP21effc</th>\n",
       "      <th>...</th>\n",
       "      <th>dneffcc2</th>\n",
       "      <th>dneffdd2</th>\n",
       "      <th>dneffaa3</th>\n",
       "      <th>dneffba3</th>\n",
       "      <th>dneffca3</th>\n",
       "      <th>dneffda3</th>\n",
       "      <th>dneffab3</th>\n",
       "      <th>dneffbb3</th>\n",
       "      <th>dneffcb3</th>\n",
       "      <th>dneffdb3</th>\n",
       "    </tr>\n",
       "  </thead>\n",
       "  <tbody>\n",
       "    <tr>\n",
       "      <th>0</th>\n",
       "      <td>4.10</td>\n",
       "      <td>0.000008</td>\n",
       "      <td>0.000063</td>\n",
       "      <td>1.4500</td>\n",
       "      <td>1.444</td>\n",
       "      <td>0.131773</td>\n",
       "      <td>1.4441</td>\n",
       "      <td>1.4441</td>\n",
       "      <td>1.4444</td>\n",
       "      <td>1.4444</td>\n",
       "      <td>...</td>\n",
       "      <td>0.0024</td>\n",
       "      <td>0.0024</td>\n",
       "      <td>0.0003</td>\n",
       "      <td>0.0003</td>\n",
       "      <td>0.0003</td>\n",
       "      <td>0.0003</td>\n",
       "      <td>0.0003</td>\n",
       "      <td>0.0003</td>\n",
       "      <td>0.0003</td>\n",
       "      <td>0.0003</td>\n",
       "    </tr>\n",
       "    <tr>\n",
       "      <th>1</th>\n",
       "      <td>4.10</td>\n",
       "      <td>0.000008</td>\n",
       "      <td>0.000063</td>\n",
       "      <td>1.4501</td>\n",
       "      <td>1.444</td>\n",
       "      <td>0.132868</td>\n",
       "      <td>1.4441</td>\n",
       "      <td>1.4441</td>\n",
       "      <td>1.4444</td>\n",
       "      <td>1.4444</td>\n",
       "      <td>...</td>\n",
       "      <td>0.0024</td>\n",
       "      <td>0.0024</td>\n",
       "      <td>0.0003</td>\n",
       "      <td>0.0003</td>\n",
       "      <td>0.0003</td>\n",
       "      <td>0.0003</td>\n",
       "      <td>0.0003</td>\n",
       "      <td>0.0003</td>\n",
       "      <td>0.0003</td>\n",
       "      <td>0.0003</td>\n",
       "    </tr>\n",
       "    <tr>\n",
       "      <th>2</th>\n",
       "      <td>4.10</td>\n",
       "      <td>0.000008</td>\n",
       "      <td>0.000063</td>\n",
       "      <td>1.4502</td>\n",
       "      <td>1.444</td>\n",
       "      <td>0.133955</td>\n",
       "      <td>1.4441</td>\n",
       "      <td>1.4441</td>\n",
       "      <td>1.4444</td>\n",
       "      <td>1.4444</td>\n",
       "      <td>...</td>\n",
       "      <td>0.0024</td>\n",
       "      <td>0.0024</td>\n",
       "      <td>0.0004</td>\n",
       "      <td>0.0004</td>\n",
       "      <td>0.0003</td>\n",
       "      <td>0.0003</td>\n",
       "      <td>0.0004</td>\n",
       "      <td>0.0004</td>\n",
       "      <td>0.0003</td>\n",
       "      <td>0.0003</td>\n",
       "    </tr>\n",
       "    <tr>\n",
       "      <th>3</th>\n",
       "      <td>4.10</td>\n",
       "      <td>0.000007</td>\n",
       "      <td>0.000063</td>\n",
       "      <td>1.4503</td>\n",
       "      <td>1.444</td>\n",
       "      <td>0.135034</td>\n",
       "      <td>1.4441</td>\n",
       "      <td>1.4441</td>\n",
       "      <td>1.4445</td>\n",
       "      <td>1.4445</td>\n",
       "      <td>...</td>\n",
       "      <td>0.0024</td>\n",
       "      <td>0.0024</td>\n",
       "      <td>0.0004</td>\n",
       "      <td>0.0004</td>\n",
       "      <td>0.0004</td>\n",
       "      <td>0.0004</td>\n",
       "      <td>0.0004</td>\n",
       "      <td>0.0004</td>\n",
       "      <td>0.0004</td>\n",
       "      <td>0.0004</td>\n",
       "    </tr>\n",
       "    <tr>\n",
       "      <th>4</th>\n",
       "      <td>4.10</td>\n",
       "      <td>0.000007</td>\n",
       "      <td>0.000063</td>\n",
       "      <td>1.4504</td>\n",
       "      <td>1.444</td>\n",
       "      <td>0.136103</td>\n",
       "      <td>1.4441</td>\n",
       "      <td>1.4441</td>\n",
       "      <td>1.4445</td>\n",
       "      <td>1.4445</td>\n",
       "      <td>...</td>\n",
       "      <td>0.0024</td>\n",
       "      <td>0.0024</td>\n",
       "      <td>0.0004</td>\n",
       "      <td>0.0004</td>\n",
       "      <td>0.0004</td>\n",
       "      <td>0.0004</td>\n",
       "      <td>0.0004</td>\n",
       "      <td>0.0004</td>\n",
       "      <td>0.0004</td>\n",
       "      <td>0.0004</td>\n",
       "    </tr>\n",
       "    <tr>\n",
       "      <th>...</th>\n",
       "      <td>...</td>\n",
       "      <td>...</td>\n",
       "      <td>...</td>\n",
       "      <td>...</td>\n",
       "      <td>...</td>\n",
       "      <td>...</td>\n",
       "      <td>...</td>\n",
       "      <td>...</td>\n",
       "      <td>...</td>\n",
       "      <td>...</td>\n",
       "      <td>...</td>\n",
       "      <td>...</td>\n",
       "      <td>...</td>\n",
       "      <td>...</td>\n",
       "      <td>...</td>\n",
       "      <td>...</td>\n",
       "      <td>...</td>\n",
       "      <td>...</td>\n",
       "      <td>...</td>\n",
       "      <td>...</td>\n",
       "      <td>...</td>\n",
       "    </tr>\n",
       "    <tr>\n",
       "      <th>1976</th>\n",
       "      <td>5.05</td>\n",
       "      <td>0.000006</td>\n",
       "      <td>0.000063</td>\n",
       "      <td>1.4579</td>\n",
       "      <td>1.444</td>\n",
       "      <td>0.200839</td>\n",
       "      <td>1.4471</td>\n",
       "      <td>1.4471</td>\n",
       "      <td>1.4483</td>\n",
       "      <td>1.4483</td>\n",
       "      <td>...</td>\n",
       "      <td>0.0041</td>\n",
       "      <td>0.0041</td>\n",
       "      <td>0.0012</td>\n",
       "      <td>0.0012</td>\n",
       "      <td>0.0012</td>\n",
       "      <td>0.0012</td>\n",
       "      <td>0.0012</td>\n",
       "      <td>0.0012</td>\n",
       "      <td>0.0012</td>\n",
       "      <td>0.0012</td>\n",
       "    </tr>\n",
       "    <tr>\n",
       "      <th>1977</th>\n",
       "      <td>5.05</td>\n",
       "      <td>0.000006</td>\n",
       "      <td>0.000063</td>\n",
       "      <td>1.4580</td>\n",
       "      <td>1.444</td>\n",
       "      <td>0.201564</td>\n",
       "      <td>1.4471</td>\n",
       "      <td>1.4471</td>\n",
       "      <td>1.4483</td>\n",
       "      <td>1.4483</td>\n",
       "      <td>...</td>\n",
       "      <td>0.0042</td>\n",
       "      <td>0.0042</td>\n",
       "      <td>0.0012</td>\n",
       "      <td>0.0012</td>\n",
       "      <td>0.0012</td>\n",
       "      <td>0.0012</td>\n",
       "      <td>0.0012</td>\n",
       "      <td>0.0012</td>\n",
       "      <td>0.0012</td>\n",
       "      <td>0.0012</td>\n",
       "    </tr>\n",
       "    <tr>\n",
       "      <th>1978</th>\n",
       "      <td>5.05</td>\n",
       "      <td>0.000006</td>\n",
       "      <td>0.000063</td>\n",
       "      <td>1.4581</td>\n",
       "      <td>1.444</td>\n",
       "      <td>0.202286</td>\n",
       "      <td>1.4471</td>\n",
       "      <td>1.4471</td>\n",
       "      <td>1.4483</td>\n",
       "      <td>1.4483</td>\n",
       "      <td>...</td>\n",
       "      <td>0.0043</td>\n",
       "      <td>0.0043</td>\n",
       "      <td>0.0013</td>\n",
       "      <td>0.0013</td>\n",
       "      <td>0.0012</td>\n",
       "      <td>0.0012</td>\n",
       "      <td>0.0013</td>\n",
       "      <td>0.0013</td>\n",
       "      <td>0.0012</td>\n",
       "      <td>0.0012</td>\n",
       "    </tr>\n",
       "    <tr>\n",
       "      <th>1979</th>\n",
       "      <td>5.05</td>\n",
       "      <td>0.000006</td>\n",
       "      <td>0.000063</td>\n",
       "      <td>1.4582</td>\n",
       "      <td>1.444</td>\n",
       "      <td>0.203006</td>\n",
       "      <td>1.4471</td>\n",
       "      <td>1.4472</td>\n",
       "      <td>1.4484</td>\n",
       "      <td>1.4484</td>\n",
       "      <td>...</td>\n",
       "      <td>0.0042</td>\n",
       "      <td>0.0042</td>\n",
       "      <td>0.0012</td>\n",
       "      <td>0.0012</td>\n",
       "      <td>0.0012</td>\n",
       "      <td>0.0012</td>\n",
       "      <td>0.0013</td>\n",
       "      <td>0.0013</td>\n",
       "      <td>0.0013</td>\n",
       "      <td>0.0013</td>\n",
       "    </tr>\n",
       "    <tr>\n",
       "      <th>1980</th>\n",
       "      <td>5.05</td>\n",
       "      <td>0.000006</td>\n",
       "      <td>0.000063</td>\n",
       "      <td>1.4583</td>\n",
       "      <td>1.444</td>\n",
       "      <td>0.203723</td>\n",
       "      <td>1.4440</td>\n",
       "      <td>1.4440</td>\n",
       "      <td>1.4472</td>\n",
       "      <td>1.4472</td>\n",
       "      <td>...</td>\n",
       "      <td>0.0012</td>\n",
       "      <td>0.0012</td>\n",
       "      <td>0.0044</td>\n",
       "      <td>0.0044</td>\n",
       "      <td>0.0032</td>\n",
       "      <td>0.0032</td>\n",
       "      <td>0.0044</td>\n",
       "      <td>0.0044</td>\n",
       "      <td>0.0032</td>\n",
       "      <td>0.0032</td>\n",
       "    </tr>\n",
       "  </tbody>\n",
       "</table>\n",
       "<p>1981 rows × 50 columns</p>\n",
       "</div>"
      ],
      "text/plain": [
       "      V number    R core  R cladding  n core  n cladding        NA  LP02effb  \\\n",
       "0         4.10  0.000008    0.000063  1.4500       1.444  0.131773    1.4441   \n",
       "1         4.10  0.000008    0.000063  1.4501       1.444  0.132868    1.4441   \n",
       "2         4.10  0.000008    0.000063  1.4502       1.444  0.133955    1.4441   \n",
       "3         4.10  0.000007    0.000063  1.4503       1.444  0.135034    1.4441   \n",
       "4         4.10  0.000007    0.000063  1.4504       1.444  0.136103    1.4441   \n",
       "...        ...       ...         ...     ...         ...       ...       ...   \n",
       "1976      5.05  0.000006    0.000063  1.4579       1.444  0.200839    1.4471   \n",
       "1977      5.05  0.000006    0.000063  1.4580       1.444  0.201564    1.4471   \n",
       "1978      5.05  0.000006    0.000063  1.4581       1.444  0.202286    1.4471   \n",
       "1979      5.05  0.000006    0.000063  1.4582       1.444  0.203006    1.4471   \n",
       "1980      5.05  0.000006    0.000063  1.4583       1.444  0.203723    1.4440   \n",
       "\n",
       "      LP02effa  LP21effd  LP21effc  ...  dneffcc2  dneffdd2  dneffaa3  \\\n",
       "0       1.4441    1.4444    1.4444  ...    0.0024    0.0024    0.0003   \n",
       "1       1.4441    1.4444    1.4444  ...    0.0024    0.0024    0.0003   \n",
       "2       1.4441    1.4444    1.4444  ...    0.0024    0.0024    0.0004   \n",
       "3       1.4441    1.4445    1.4445  ...    0.0024    0.0024    0.0004   \n",
       "4       1.4441    1.4445    1.4445  ...    0.0024    0.0024    0.0004   \n",
       "...        ...       ...       ...  ...       ...       ...       ...   \n",
       "1976    1.4471    1.4483    1.4483  ...    0.0041    0.0041    0.0012   \n",
       "1977    1.4471    1.4483    1.4483  ...    0.0042    0.0042    0.0012   \n",
       "1978    1.4471    1.4483    1.4483  ...    0.0043    0.0043    0.0013   \n",
       "1979    1.4472    1.4484    1.4484  ...    0.0042    0.0042    0.0012   \n",
       "1980    1.4440    1.4472    1.4472  ...    0.0012    0.0012    0.0044   \n",
       "\n",
       "      dneffba3  dneffca3  dneffda3  dneffab3  dneffbb3  dneffcb3  dneffdb3  \n",
       "0       0.0003    0.0003    0.0003    0.0003    0.0003    0.0003    0.0003  \n",
       "1       0.0003    0.0003    0.0003    0.0003    0.0003    0.0003    0.0003  \n",
       "2       0.0004    0.0003    0.0003    0.0004    0.0004    0.0003    0.0003  \n",
       "3       0.0004    0.0004    0.0004    0.0004    0.0004    0.0004    0.0004  \n",
       "4       0.0004    0.0004    0.0004    0.0004    0.0004    0.0004    0.0004  \n",
       "...        ...       ...       ...       ...       ...       ...       ...  \n",
       "1976    0.0012    0.0012    0.0012    0.0012    0.0012    0.0012    0.0012  \n",
       "1977    0.0012    0.0012    0.0012    0.0012    0.0012    0.0012    0.0012  \n",
       "1978    0.0013    0.0012    0.0012    0.0013    0.0013    0.0012    0.0012  \n",
       "1979    0.0012    0.0012    0.0012    0.0013    0.0013    0.0013    0.0013  \n",
       "1980    0.0044    0.0032    0.0032    0.0044    0.0044    0.0032    0.0032  \n",
       "\n",
       "[1981 rows x 50 columns]"
      ]
     },
     "execution_count": 2,
     "metadata": {},
     "output_type": "execute_result"
    }
   ],
   "source": [
    "df = pd.read_csv(\"FMF4.csv\")\n",
    "subset =  df.iloc[0:1984,0:50]\n",
    "subset"
   ]
  },
  {
   "cell_type": "markdown",
   "metadata": {},
   "source": [
    "Load dataset"
   ]
  },
  {
   "cell_type": "code",
   "execution_count": 4,
   "metadata": {},
   "outputs": [
    {
     "data": {
      "text/plain": [
       "((1386, 21), (595, 21), (1386, 17), (595, 17))"
      ]
     },
     "execution_count": 4,
     "metadata": {},
     "output_type": "execute_result"
    }
   ],
   "source": [
    "X = subset[[ 'NA',  'dneffaa1', 'dneffab1', 'dneffac1', 'dneffad1', 'dneffba1', 'dneffbb1', 'dneffbc1', 'dneffbd1', 'dneffaa2', 'dneffbb2', 'dneffcc2', 'dneffdd2', 'dneffaa3', 'dneffba3', 'dneffca3', 'dneffda3', 'dneffab3', 'dneffbb3', 'dneffcb3', 'dneffdb3']].astype(np.float64)\n",
    "y = subset[['V number','R core', 'R cladding', 'n core', 'n cladding', 'LP02effb', 'LP02effa', 'LP21effd', 'LP21effc', 'LP21effb', 'LP21effa', 'LP11effd', 'LP11effc', 'LP11effb', 'LP11effa', 'LP01effb', 'LP01effa']].astype(np.float64)\n",
    "X_train, X_test, y_train, y_test = train_test_split(X, y, train_size=0.7, random_state=1010)\n",
    "X_train.shape, X_test.shape, y_train.shape, y_test.shape"
   ]
  },
  {
   "cell_type": "markdown",
   "metadata": {},
   "source": [
    "Data splitting"
   ]
  },
  {
   "cell_type": "code",
   "execution_count": 5,
   "metadata": {},
   "outputs": [],
   "source": [
    "\n",
    "model =DecisionTreeRegressor()"
   ]
  },
  {
   "cell_type": "markdown",
   "metadata": {},
   "source": [
    "Initializing the ML model"
   ]
  },
  {
   "cell_type": "code",
   "execution_count": 6,
   "metadata": {},
   "outputs": [
    {
     "data": {
      "text/html": [
       "<style>#sk-container-id-1 {color: black;}#sk-container-id-1 pre{padding: 0;}#sk-container-id-1 div.sk-toggleable {background-color: white;}#sk-container-id-1 label.sk-toggleable__label {cursor: pointer;display: block;width: 100%;margin-bottom: 0;padding: 0.3em;box-sizing: border-box;text-align: center;}#sk-container-id-1 label.sk-toggleable__label-arrow:before {content: \"▸\";float: left;margin-right: 0.25em;color: #696969;}#sk-container-id-1 label.sk-toggleable__label-arrow:hover:before {color: black;}#sk-container-id-1 div.sk-estimator:hover label.sk-toggleable__label-arrow:before {color: black;}#sk-container-id-1 div.sk-toggleable__content {max-height: 0;max-width: 0;overflow: hidden;text-align: left;background-color: #f0f8ff;}#sk-container-id-1 div.sk-toggleable__content pre {margin: 0.2em;color: black;border-radius: 0.25em;background-color: #f0f8ff;}#sk-container-id-1 input.sk-toggleable__control:checked~div.sk-toggleable__content {max-height: 200px;max-width: 100%;overflow: auto;}#sk-container-id-1 input.sk-toggleable__control:checked~label.sk-toggleable__label-arrow:before {content: \"▾\";}#sk-container-id-1 div.sk-estimator input.sk-toggleable__control:checked~label.sk-toggleable__label {background-color: #d4ebff;}#sk-container-id-1 div.sk-label input.sk-toggleable__control:checked~label.sk-toggleable__label {background-color: #d4ebff;}#sk-container-id-1 input.sk-hidden--visually {border: 0;clip: rect(1px 1px 1px 1px);clip: rect(1px, 1px, 1px, 1px);height: 1px;margin: -1px;overflow: hidden;padding: 0;position: absolute;width: 1px;}#sk-container-id-1 div.sk-estimator {font-family: monospace;background-color: #f0f8ff;border: 1px dotted black;border-radius: 0.25em;box-sizing: border-box;margin-bottom: 0.5em;}#sk-container-id-1 div.sk-estimator:hover {background-color: #d4ebff;}#sk-container-id-1 div.sk-parallel-item::after {content: \"\";width: 100%;border-bottom: 1px solid gray;flex-grow: 1;}#sk-container-id-1 div.sk-label:hover label.sk-toggleable__label {background-color: #d4ebff;}#sk-container-id-1 div.sk-serial::before {content: \"\";position: absolute;border-left: 1px solid gray;box-sizing: border-box;top: 0;bottom: 0;left: 50%;z-index: 0;}#sk-container-id-1 div.sk-serial {display: flex;flex-direction: column;align-items: center;background-color: white;padding-right: 0.2em;padding-left: 0.2em;position: relative;}#sk-container-id-1 div.sk-item {position: relative;z-index: 1;}#sk-container-id-1 div.sk-parallel {display: flex;align-items: stretch;justify-content: center;background-color: white;position: relative;}#sk-container-id-1 div.sk-item::before, #sk-container-id-1 div.sk-parallel-item::before {content: \"\";position: absolute;border-left: 1px solid gray;box-sizing: border-box;top: 0;bottom: 0;left: 50%;z-index: -1;}#sk-container-id-1 div.sk-parallel-item {display: flex;flex-direction: column;z-index: 1;position: relative;background-color: white;}#sk-container-id-1 div.sk-parallel-item:first-child::after {align-self: flex-end;width: 50%;}#sk-container-id-1 div.sk-parallel-item:last-child::after {align-self: flex-start;width: 50%;}#sk-container-id-1 div.sk-parallel-item:only-child::after {width: 0;}#sk-container-id-1 div.sk-dashed-wrapped {border: 1px dashed gray;margin: 0 0.4em 0.5em 0.4em;box-sizing: border-box;padding-bottom: 0.4em;background-color: white;}#sk-container-id-1 div.sk-label label {font-family: monospace;font-weight: bold;display: inline-block;line-height: 1.2em;}#sk-container-id-1 div.sk-label-container {text-align: center;}#sk-container-id-1 div.sk-container {/* jupyter's `normalize.less` sets `[hidden] { display: none; }` but bootstrap.min.css set `[hidden] { display: none !important; }` so we also need the `!important` here to be able to override the default hidden behavior on the sphinx rendered scikit-learn.org. See: https://github.com/scikit-learn/scikit-learn/issues/21755 */display: inline-block !important;position: relative;}#sk-container-id-1 div.sk-text-repr-fallback {display: none;}</style><div id=\"sk-container-id-1\" class=\"sk-top-container\"><div class=\"sk-text-repr-fallback\"><pre>DecisionTreeRegressor()</pre><b>In a Jupyter environment, please rerun this cell to show the HTML representation or trust the notebook. <br />On GitHub, the HTML representation is unable to render, please try loading this page with nbviewer.org.</b></div><div class=\"sk-container\" hidden><div class=\"sk-item\"><div class=\"sk-estimator sk-toggleable\"><input class=\"sk-toggleable__control sk-hidden--visually\" id=\"sk-estimator-id-1\" type=\"checkbox\" checked><label for=\"sk-estimator-id-1\" class=\"sk-toggleable__label sk-toggleable__label-arrow\">DecisionTreeRegressor</label><div class=\"sk-toggleable__content\"><pre>DecisionTreeRegressor()</pre></div></div></div></div></div>"
      ],
      "text/plain": [
       "DecisionTreeRegressor()"
      ]
     },
     "execution_count": 6,
     "metadata": {},
     "output_type": "execute_result"
    }
   ],
   "source": [
    "model.fit(X_train,y_train)"
   ]
  },
  {
   "cell_type": "markdown",
   "metadata": {},
   "source": [
    "Fitting the ML model"
   ]
  },
  {
   "cell_type": "code",
   "execution_count": 7,
   "metadata": {},
   "outputs": [],
   "source": [
    "y_pred = model.predict(X_test)"
   ]
  },
  {
   "cell_type": "markdown",
   "metadata": {},
   "source": [
    "Predicting the test set"
   ]
  },
  {
   "cell_type": "code",
   "execution_count": 12,
   "metadata": {},
   "outputs": [
    {
     "name": "stdout",
     "output_type": "stream",
     "text": [
      "Mean Squared Error (MSE): 0.00020156798200062726\n",
      "R-squared (R2 Score): 0.9844493267473008\n",
      "Mean Absolute Error (MAE): 0.0020983421216345397\n"
     ]
    }
   ],
   "source": [
    "mse= mean_squared_error(y_test,y_pred)\n",
    "r2 = r2_score(y_test, y_pred)\n",
    "print(\"Mean Squared Error (MSE):\", mse)\n",
    "print(\"R-squared (R2 Score):\", r2)\n",
    "mae = mean_absolute_error(y_test, y_pred)\n",
    "print(\"Mean Absolute Error (MAE):\", mae)"
   ]
  },
  {
   "cell_type": "markdown",
   "metadata": {},
   "source": [
    "MSE"
   ]
  },
  {
   "cell_type": "code",
   "execution_count": 11,
   "metadata": {},
   "outputs": [
    {
     "name": "stdout",
     "output_type": "stream",
     "text": [
      "V number : 5.05\n",
      "R core : 8.03e-06\n",
      "R cladding : 6.25e-05\n",
      "n core : 1.4523\n",
      "n cladding : 1.444\n",
      "LP02effb : 1.4458\n",
      "LP02effa : 1.4458\n",
      "LP21effd : 1.4466\n",
      "LP21effc : 1.4466\n",
      "LP21effb : 1.4466\n",
      "LP21effa : 1.4466\n",
      "LP11effd : 1.449\n",
      "LP11effc : 1.449\n",
      "LP11effb : 1.449\n",
      "LP11effa : 1.4491\n",
      "LP01effb : 1.451\n",
      "LP01effa : 1.451\n"
     ]
    },
    {
     "name": "stderr",
     "output_type": "stream",
     "text": [
      "d:\\Anaconda\\Lib\\site-packages\\sklearn\\base.py:464: UserWarning: X does not have valid feature names, but DecisionTreeRegressor was fitted with feature names\n",
      "  warnings.warn(\n"
     ]
    }
   ],
   "source": [
    "input_dict = {\n",
    "    'NA': 1,\n",
    "    'Eff area01': ['Eff area01a', 'Eff area01b'],\n",
    "    'Eff area11': ['Eff area11a', 'Eff area11b', 'Eff area11c', 'Eff area11d'],\n",
    "    'Eff area21': ['Eff area21a', 'Eff area21b', 'Eff area21c', 'Eff area21d'],\n",
    "    'Eff area02': ['Eff area02a', 'Eff area02b'],\n",
    "    'dneff1': ['dneffaa1', 'dneffab1', 'dneffac1', 'dneffad1', 'dneffba1', 'dneffbb1', 'dneffbc1', 'dneffbd1'],\n",
    "    'dneff2': ['dneffaa2', 'dneffbb2', 'dneffcc2', 'dneffdd2'],\n",
    "    'dneff3': ['dneffaa3', 'dneffba3', 'dneffca3', 'dneffda3', 'dneffab3', 'dneffbb3', 'dneffcb3', 'dneffdb3']\n",
    "}\n",
    "\n",
    "def predict_output(user_input_NA, user_input_dneff1, user_input_dneff2, user_input_dneff3):\n",
    "    # Predict the output based on user input\n",
    "    input_values = user_input_NA + user_input_dneff1 + user_input_dneff2 + user_input_dneff3\n",
    "    predicted_output = model.predict([input_values])\n",
    "    return predicted_output\n",
    "\n",
    "# Example: Prompt the user for input and predict the output\n",
    "user_input_NA = [float(input(\"Enter the value of feature 'NA': \"))] * input_dict['NA']\n",
    "user_input_dneff1 = [float(input(\"Enter the value of feature 'dneff1': \"))] * len(input_dict['dneff1'])\n",
    "user_input_dneff2 = [float(input(\"Enter the value of feature 'dneff2': \"))] * len(input_dict['dneff2'])\n",
    "user_input_dneff3 = [float(input(\"Enter the value of feature 'dneff3': \"))] * len(input_dict['dneff3'])\n",
    "\n",
    "predicted_output = predict_output(user_input_NA, user_input_dneff1, user_input_dneff2, user_input_dneff3)\n",
    "\n",
    "output = {}\n",
    "for i in range(len(y.columns)):\n",
    "    output[f'{y.columns[i]}'] = predicted_output[0][i]\n",
    "    print(f'{y.columns[i]} : {predicted_output[0][i]}')\n"
   ]
  },
  {
   "cell_type": "code",
   "execution_count": 30,
   "metadata": {},
   "outputs": [
    {
     "data": {
      "image/png": "[encoded data removed]",
      "text/plain": [
       "<Figure size 1200x800 with 1 Axes>"
      ]
     },
     "metadata": {},
     "output_type": "display_data"
    }
   ],
   "source": [
    "# Define the specific targets\n",
    "specific_targets = ['R core', 'n core', 'NA']\n",
    "\n",
    "# Define marker styles for each target\n",
    "markers = [ 'D', '^', '*', 'x', 'P']\n",
    "\n",
    "# Plot the actual vs predicted values for specific targets\n",
    "plt.figure(figsize=(12, 8))\n",
    "\n",
    "for target, marker in zip(specific_targets, markers):\n",
    "    idx = y_test.columns.get_loc(target)\n",
    "    plt.scatter(y_test.iloc[:, idx], y_pred[:, idx], label=target, marker=marker)\n",
    "\n",
    "# Plot the perfect prediction line\n",
    "plt.plot([min(y_test.values.min(), y_pred.min()), max(y_test.values.max(), y_pred.max())],\n",
    "         [min(y_test.values.min(), y_pred.min()), max(y_test.values.max(), y_pred.max())], '--k', label='Perfect Prediction')\n",
    "\n",
    "\n",
    "# Set limits for x-axis and y-axis\n",
    "plt.xlim(0, 1.5)  # Adjust these values according to your desired range\n",
    "plt.ylim(0, 1.5)  # Adjust these values according to your desired range\n",
    "\n",
    "plt.xlabel('Actual')\n",
    "plt.ylabel('Predicted')\n",
    "plt.title('Actual vs Predicted values for Specific Targets (Decision Tree Regressor)')\n",
    "plt.legend()\n",
    "plt.show()"
   ]
  },
  {
   "cell_type": "markdown",
   "metadata": {},
   "source": [
    "Output prediction"
   ]
  }
 ],
 "metadata": {
  "kernelspec": {
   "display_name": "base",
   "language": "python",
   "name": "python3"
  },
  "language_info": {
   "codemirror_mode": {
    "name": "ipython",
    "version": 3
   },
   "file_extension": ".py",
   "mimetype": "text/x-python",
   "name": "python",
   "nbconvert_exporter": "python",
   "pygments_lexer": "ipython3",
   "version": "3.11.5"
  }
 },
 "nbformat": 4,
 "nbformat_minor": 2
}
