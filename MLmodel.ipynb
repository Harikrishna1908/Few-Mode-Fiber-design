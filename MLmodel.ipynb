{
 "cells": [
  {
   "cell_type": "code",
   "execution_count": 9,
   "metadata": {},
   "outputs": [],
   "source": [
    "import pandas as pd\n",
    "import sklearn\n",
    "import numpy as np\n",
    "import matplotlib.pyplot as plt\n",
    "from sklearn.model_selection import train_test_split\n",
    "from sklearn.linear_model import LinearRegression\n",
    "from sklearn.metrics import mean_absolute_error, mean_absolute_percentage_error, mean_squared_error"
   ]
  },
  {
   "cell_type": "markdown",
   "metadata": {},
   "source": [
    " Importing necessary libraries"
   ]
  },
  {
   "cell_type": "code",
   "execution_count": 10,
   "metadata": {},
   "outputs": [
    {
     "data": {
      "text/html": [
       "<div>\n",
       "<style scoped>\n",
       "    .dataframe tbody tr th:only-of-type {\n",
       "        vertical-align: middle;\n",
       "    }\n",
       "\n",
       "    .dataframe tbody tr th {\n",
       "        vertical-align: top;\n",
       "    }\n",
       "\n",
       "    .dataframe thead th {\n",
       "        text-align: right;\n",
       "    }\n",
       "</style>\n",
       "<table border=\"1\" class=\"dataframe\">\n",
       "  <thead>\n",
       "    <tr style=\"text-align: right;\">\n",
       "      <th></th>\n",
       "      <th>V number</th>\n",
       "      <th>R core</th>\n",
       "      <th>R cladding</th>\n",
       "      <th>n core</th>\n",
       "      <th>n cladding</th>\n",
       "      <th>NA</th>\n",
       "      <th>LP01 eff</th>\n",
       "      <th>LP11 eff</th>\n",
       "      <th>LP21 eff</th>\n",
       "      <th>LP02 eff</th>\n",
       "      <th>dneff1</th>\n",
       "      <th>dneff2</th>\n",
       "      <th>dneff3</th>\n",
       "    </tr>\n",
       "  </thead>\n",
       "  <tbody>\n",
       "    <tr>\n",
       "      <th>0</th>\n",
       "      <td>4.10</td>\n",
       "      <td>0.000008</td>\n",
       "      <td>0.000063</td>\n",
       "      <td>1.4500</td>\n",
       "      <td>1.444</td>\n",
       "      <td>0.131773</td>\n",
       "      <td>1.4487</td>\n",
       "      <td>1.4468</td>\n",
       "      <td>1.44440</td>\n",
       "      <td>1.4441</td>\n",
       "      <td>0.0019</td>\n",
       "      <td>0.00240</td>\n",
       "      <td>0.00030</td>\n",
       "    </tr>\n",
       "    <tr>\n",
       "      <th>1</th>\n",
       "      <td>4.10</td>\n",
       "      <td>0.000008</td>\n",
       "      <td>0.000063</td>\n",
       "      <td>1.4501</td>\n",
       "      <td>1.444</td>\n",
       "      <td>0.132868</td>\n",
       "      <td>1.4488</td>\n",
       "      <td>1.4468</td>\n",
       "      <td>1.44440</td>\n",
       "      <td>1.4441</td>\n",
       "      <td>0.0020</td>\n",
       "      <td>0.00240</td>\n",
       "      <td>0.00030</td>\n",
       "    </tr>\n",
       "    <tr>\n",
       "      <th>2</th>\n",
       "      <td>4.10</td>\n",
       "      <td>0.000008</td>\n",
       "      <td>0.000063</td>\n",
       "      <td>1.4502</td>\n",
       "      <td>1.444</td>\n",
       "      <td>0.133955</td>\n",
       "      <td>1.4488</td>\n",
       "      <td>1.4468</td>\n",
       "      <td>1.44445</td>\n",
       "      <td>1.4441</td>\n",
       "      <td>0.0020</td>\n",
       "      <td>0.00235</td>\n",
       "      <td>0.00035</td>\n",
       "    </tr>\n",
       "    <tr>\n",
       "      <th>3</th>\n",
       "      <td>4.10</td>\n",
       "      <td>0.000007</td>\n",
       "      <td>0.000063</td>\n",
       "      <td>1.4503</td>\n",
       "      <td>1.444</td>\n",
       "      <td>0.135034</td>\n",
       "      <td>1.4489</td>\n",
       "      <td>1.4469</td>\n",
       "      <td>1.44450</td>\n",
       "      <td>1.4441</td>\n",
       "      <td>0.0020</td>\n",
       "      <td>0.00240</td>\n",
       "      <td>0.00040</td>\n",
       "    </tr>\n",
       "    <tr>\n",
       "      <th>4</th>\n",
       "      <td>4.10</td>\n",
       "      <td>0.000007</td>\n",
       "      <td>0.000063</td>\n",
       "      <td>1.4504</td>\n",
       "      <td>1.444</td>\n",
       "      <td>0.136103</td>\n",
       "      <td>1.4490</td>\n",
       "      <td>1.4469</td>\n",
       "      <td>1.44450</td>\n",
       "      <td>1.4441</td>\n",
       "      <td>0.0021</td>\n",
       "      <td>0.00240</td>\n",
       "      <td>0.00040</td>\n",
       "    </tr>\n",
       "    <tr>\n",
       "      <th>...</th>\n",
       "      <td>...</td>\n",
       "      <td>...</td>\n",
       "      <td>...</td>\n",
       "      <td>...</td>\n",
       "      <td>...</td>\n",
       "      <td>...</td>\n",
       "      <td>...</td>\n",
       "      <td>...</td>\n",
       "      <td>...</td>\n",
       "      <td>...</td>\n",
       "      <td>...</td>\n",
       "      <td>...</td>\n",
       "      <td>...</td>\n",
       "    </tr>\n",
       "    <tr>\n",
       "      <th>946</th>\n",
       "      <td>4.96</td>\n",
       "      <td>0.000009</td>\n",
       "      <td>0.000063</td>\n",
       "      <td>1.4500</td>\n",
       "      <td>1.444</td>\n",
       "      <td>0.131773</td>\n",
       "      <td>1.4490</td>\n",
       "      <td>1.4476</td>\n",
       "      <td>1.44570</td>\n",
       "      <td>1.4452</td>\n",
       "      <td>0.0014</td>\n",
       "      <td>0.00190</td>\n",
       "      <td>0.00050</td>\n",
       "    </tr>\n",
       "    <tr>\n",
       "      <th>947</th>\n",
       "      <td>4.97</td>\n",
       "      <td>0.000009</td>\n",
       "      <td>0.000063</td>\n",
       "      <td>1.4500</td>\n",
       "      <td>1.444</td>\n",
       "      <td>0.131773</td>\n",
       "      <td>1.4490</td>\n",
       "      <td>1.4476</td>\n",
       "      <td>1.44575</td>\n",
       "      <td>1.4452</td>\n",
       "      <td>0.0014</td>\n",
       "      <td>0.00185</td>\n",
       "      <td>0.00055</td>\n",
       "    </tr>\n",
       "    <tr>\n",
       "      <th>948</th>\n",
       "      <td>4.98</td>\n",
       "      <td>0.000009</td>\n",
       "      <td>0.000063</td>\n",
       "      <td>1.4500</td>\n",
       "      <td>1.444</td>\n",
       "      <td>0.131773</td>\n",
       "      <td>1.4490</td>\n",
       "      <td>1.4476</td>\n",
       "      <td>1.44580</td>\n",
       "      <td>1.4452</td>\n",
       "      <td>0.0014</td>\n",
       "      <td>0.00180</td>\n",
       "      <td>0.00060</td>\n",
       "    </tr>\n",
       "    <tr>\n",
       "      <th>949</th>\n",
       "      <td>4.99</td>\n",
       "      <td>0.000009</td>\n",
       "      <td>0.000063</td>\n",
       "      <td>1.4500</td>\n",
       "      <td>1.444</td>\n",
       "      <td>0.131773</td>\n",
       "      <td>1.4490</td>\n",
       "      <td>1.4476</td>\n",
       "      <td>1.44580</td>\n",
       "      <td>1.4453</td>\n",
       "      <td>0.0014</td>\n",
       "      <td>0.00180</td>\n",
       "      <td>0.00050</td>\n",
       "    </tr>\n",
       "    <tr>\n",
       "      <th>950</th>\n",
       "      <td>5.00</td>\n",
       "      <td>0.000009</td>\n",
       "      <td>0.000063</td>\n",
       "      <td>1.4500</td>\n",
       "      <td>1.444</td>\n",
       "      <td>0.131773</td>\n",
       "      <td>1.4490</td>\n",
       "      <td>1.4476</td>\n",
       "      <td>1.44580</td>\n",
       "      <td>1.4453</td>\n",
       "      <td>0.0014</td>\n",
       "      <td>0.00180</td>\n",
       "      <td>0.00050</td>\n",
       "    </tr>\n",
       "  </tbody>\n",
       "</table>\n",
       "<p>951 rows × 13 columns</p>\n",
       "</div>"
      ],
      "text/plain": [
       "     V number    R core  R cladding   n core  n cladding        NA  LP01 eff  \\\n",
       "0        4.10  0.000008    0.000063   1.4500       1.444  0.131773    1.4487   \n",
       "1        4.10  0.000008    0.000063   1.4501       1.444  0.132868    1.4488   \n",
       "2        4.10  0.000008    0.000063   1.4502       1.444  0.133955    1.4488   \n",
       "3        4.10  0.000007    0.000063   1.4503       1.444  0.135034    1.4489   \n",
       "4        4.10  0.000007    0.000063   1.4504       1.444  0.136103    1.4490   \n",
       "..        ...       ...         ...      ...         ...       ...       ...   \n",
       "946      4.96  0.000009    0.000063   1.4500       1.444  0.131773    1.4490   \n",
       "947      4.97  0.000009    0.000063   1.4500       1.444  0.131773    1.4490   \n",
       "948      4.98  0.000009    0.000063   1.4500       1.444  0.131773    1.4490   \n",
       "949      4.99  0.000009    0.000063   1.4500       1.444  0.131773    1.4490   \n",
       "950      5.00  0.000009    0.000063   1.4500       1.444  0.131773    1.4490   \n",
       "\n",
       "     LP11 eff  LP21 eff  LP02 eff  dneff1   dneff2   dneff3  \n",
       "0      1.4468   1.44440    1.4441  0.0019  0.00240  0.00030  \n",
       "1      1.4468   1.44440    1.4441  0.0020  0.00240  0.00030  \n",
       "2      1.4468   1.44445    1.4441  0.0020  0.00235  0.00035  \n",
       "3      1.4469   1.44450    1.4441  0.0020  0.00240  0.00040  \n",
       "4      1.4469   1.44450    1.4441  0.0021  0.00240  0.00040  \n",
       "..        ...       ...       ...     ...      ...      ...  \n",
       "946    1.4476   1.44570    1.4452  0.0014  0.00190  0.00050  \n",
       "947    1.4476   1.44575    1.4452  0.0014  0.00185  0.00055  \n",
       "948    1.4476   1.44580    1.4452  0.0014  0.00180  0.00060  \n",
       "949    1.4476   1.44580    1.4453  0.0014  0.00180  0.00050  \n",
       "950    1.4476   1.44580    1.4453  0.0014  0.00180  0.00050  \n",
       "\n",
       "[951 rows x 13 columns]"
      ]
     },
     "execution_count": 10,
     "metadata": {},
     "output_type": "execute_result"
    }
   ],
   "source": [
    "df = pd.read_csv(\"HARIfmf.csv\")\n",
    "subset =  df.iloc[0:952,0:13]\n",
    "subset"
   ]
  },
  {
   "cell_type": "markdown",
   "metadata": {},
   "source": [
    "Load dataset"
   ]
  },
  {
   "cell_type": "code",
   "execution_count": 11,
   "metadata": {},
   "outputs": [
    {
     "data": {
      "text/plain": [
       "((665, 4), (286, 4), (665, 3), (286, 3))"
      ]
     },
     "execution_count": 11,
     "metadata": {},
     "output_type": "execute_result"
    }
   ],
   "source": [
    "# Clean and convert columns to numeric format\n",
    "subset['V number'] = subset['V number'].astype(float)\n",
    "subset['R core'] = subset['R core'].astype(float)\n",
    "subset[' n core'] = subset[' n core'].astype(float)\n",
    "subset['NA'] = subset['NA'].astype(float)\n",
    "subset['dneff1'] = subset['dneff1'].astype(float)\n",
    "subset['dneff2'] = subset['dneff2'].astype(float)\n",
    "subset['dneff3'] = subset['dneff3'].astype(float)\n",
    "y = subset[['R core','NA',' n core']]\n",
    "X = subset[['V number','dneff1', 'dneff2', 'dneff3']]\n",
    "X_train, X_test, y_train, y_test = train_test_split(X,y, train_size=0.7, random_state=1010)\n",
    "X_train.shape, X_test.shape, y_train.shape, y_test.shape"
   ]
  },
  {
   "cell_type": "markdown",
   "metadata": {},
   "source": [
    "Data splitting"
   ]
  },
  {
   "cell_type": "code",
   "execution_count": 12,
   "metadata": {},
   "outputs": [],
   "source": [
    "\n",
    "model = LinearRegression()"
   ]
  },
  {
   "cell_type": "markdown",
   "metadata": {},
   "source": [
    "Initializing the ML model"
   ]
  },
  {
   "cell_type": "code",
   "execution_count": 13,
   "metadata": {},
   "outputs": [
    {
     "data": {
      "text/html": [
       "<style>#sk-container-id-2 {color: black;}#sk-container-id-2 pre{padding: 0;}#sk-container-id-2 div.sk-toggleable {background-color: white;}#sk-container-id-2 label.sk-toggleable__label {cursor: pointer;display: block;width: 100%;margin-bottom: 0;padding: 0.3em;box-sizing: border-box;text-align: center;}#sk-container-id-2 label.sk-toggleable__label-arrow:before {content: \"▸\";float: left;margin-right: 0.25em;color: #696969;}#sk-container-id-2 label.sk-toggleable__label-arrow:hover:before {color: black;}#sk-container-id-2 div.sk-estimator:hover label.sk-toggleable__label-arrow:before {color: black;}#sk-container-id-2 div.sk-toggleable__content {max-height: 0;max-width: 0;overflow: hidden;text-align: left;background-color: #f0f8ff;}#sk-container-id-2 div.sk-toggleable__content pre {margin: 0.2em;color: black;border-radius: 0.25em;background-color: #f0f8ff;}#sk-container-id-2 input.sk-toggleable__control:checked~div.sk-toggleable__content {max-height: 200px;max-width: 100%;overflow: auto;}#sk-container-id-2 input.sk-toggleable__control:checked~label.sk-toggleable__label-arrow:before {content: \"▾\";}#sk-container-id-2 div.sk-estimator input.sk-toggleable__control:checked~label.sk-toggleable__label {background-color: #d4ebff;}#sk-container-id-2 div.sk-label input.sk-toggleable__control:checked~label.sk-toggleable__label {background-color: #d4ebff;}#sk-container-id-2 input.sk-hidden--visually {border: 0;clip: rect(1px 1px 1px 1px);clip: rect(1px, 1px, 1px, 1px);height: 1px;margin: -1px;overflow: hidden;padding: 0;position: absolute;width: 1px;}#sk-container-id-2 div.sk-estimator {font-family: monospace;background-color: #f0f8ff;border: 1px dotted black;border-radius: 0.25em;box-sizing: border-box;margin-bottom: 0.5em;}#sk-container-id-2 div.sk-estimator:hover {background-color: #d4ebff;}#sk-container-id-2 div.sk-parallel-item::after {content: \"\";width: 100%;border-bottom: 1px solid gray;flex-grow: 1;}#sk-container-id-2 div.sk-label:hover label.sk-toggleable__label {background-color: #d4ebff;}#sk-container-id-2 div.sk-serial::before {content: \"\";position: absolute;border-left: 1px solid gray;box-sizing: border-box;top: 0;bottom: 0;left: 50%;z-index: 0;}#sk-container-id-2 div.sk-serial {display: flex;flex-direction: column;align-items: center;background-color: white;padding-right: 0.2em;padding-left: 0.2em;position: relative;}#sk-container-id-2 div.sk-item {position: relative;z-index: 1;}#sk-container-id-2 div.sk-parallel {display: flex;align-items: stretch;justify-content: center;background-color: white;position: relative;}#sk-container-id-2 div.sk-item::before, #sk-container-id-2 div.sk-parallel-item::before {content: \"\";position: absolute;border-left: 1px solid gray;box-sizing: border-box;top: 0;bottom: 0;left: 50%;z-index: -1;}#sk-container-id-2 div.sk-parallel-item {display: flex;flex-direction: column;z-index: 1;position: relative;background-color: white;}#sk-container-id-2 div.sk-parallel-item:first-child::after {align-self: flex-end;width: 50%;}#sk-container-id-2 div.sk-parallel-item:last-child::after {align-self: flex-start;width: 50%;}#sk-container-id-2 div.sk-parallel-item:only-child::after {width: 0;}#sk-container-id-2 div.sk-dashed-wrapped {border: 1px dashed gray;margin: 0 0.4em 0.5em 0.4em;box-sizing: border-box;padding-bottom: 0.4em;background-color: white;}#sk-container-id-2 div.sk-label label {font-family: monospace;font-weight: bold;display: inline-block;line-height: 1.2em;}#sk-container-id-2 div.sk-label-container {text-align: center;}#sk-container-id-2 div.sk-container {/* jupyter's `normalize.less` sets `[hidden] { display: none; }` but bootstrap.min.css set `[hidden] { display: none !important; }` so we also need the `!important` here to be able to override the default hidden behavior on the sphinx rendered scikit-learn.org. See: https://github.com/scikit-learn/scikit-learn/issues/21755 */display: inline-block !important;position: relative;}#sk-container-id-2 div.sk-text-repr-fallback {display: none;}</style><div id=\"sk-container-id-2\" class=\"sk-top-container\"><div class=\"sk-text-repr-fallback\"><pre>LinearRegression()</pre><b>In a Jupyter environment, please rerun this cell to show the HTML representation or trust the notebook. <br />On GitHub, the HTML representation is unable to render, please try loading this page with nbviewer.org.</b></div><div class=\"sk-container\" hidden><div class=\"sk-item\"><div class=\"sk-estimator sk-toggleable\"><input class=\"sk-toggleable__control sk-hidden--visually\" id=\"sk-estimator-id-2\" type=\"checkbox\" checked><label for=\"sk-estimator-id-2\" class=\"sk-toggleable__label sk-toggleable__label-arrow\">LinearRegression</label><div class=\"sk-toggleable__content\"><pre>LinearRegression()</pre></div></div></div></div></div>"
      ],
      "text/plain": [
       "LinearRegression()"
      ]
     },
     "execution_count": 13,
     "metadata": {},
     "output_type": "execute_result"
    }
   ],
   "source": [
    "model.fit(X_train,y_train)"
   ]
  },
  {
   "cell_type": "markdown",
   "metadata": {},
   "source": [
    "Fitting the ML model"
   ]
  },
  {
   "cell_type": "code",
   "execution_count": 14,
   "metadata": {},
   "outputs": [],
   "source": [
    "y_pred = model.predict(X_test)"
   ]
  },
  {
   "cell_type": "markdown",
   "metadata": {},
   "source": [
    "Predicting the test set"
   ]
  },
  {
   "cell_type": "code",
   "execution_count": 15,
   "metadata": {},
   "outputs": [
    {
     "data": {
      "text/plain": [
       "1.676886271050125e-06"
      ]
     },
     "execution_count": 15,
     "metadata": {},
     "output_type": "execute_result"
    }
   ],
   "source": [
    "mean_squared_error(y_test,y_pred)"
   ]
  },
  {
   "cell_type": "markdown",
   "metadata": {},
   "source": [
    "MSE"
   ]
  },
  {
   "cell_type": "code",
   "execution_count": 16,
   "metadata": {},
   "outputs": [
    {
     "name": "stdout",
     "output_type": "stream",
     "text": [
      "Predicted output: [[6.59487847e-06 1.44604786e-01 1.45142533e+00]]\n"
     ]
    },
    {
     "name": "stderr",
     "output_type": "stream",
     "text": [
      "d:\\Anaconda\\Lib\\site-packages\\sklearn\\base.py:464: UserWarning: X does not have valid feature names, but LinearRegression was fitted with feature names\n",
      "  warnings.warn(\n"
     ]
    }
   ],
   "source": [
    "def predict_output(user_input_v, user_input_dneff1,user_input_dneff2,user_input_dneff3):\n",
    "    # Predict the output based on user input\n",
    "    predicted_output = model.predict([[user_input_v, user_input_dneff1,user_input_dneff2,user_input_dneff3]])\n",
    "    return predicted_output\n",
    "\n",
    "# Example: Prompt the user for input and predict the output\n",
    "user_input_v = float(input(\"Enter the value of feature 'V number': \"))\n",
    "user_input_dneff1 = float(input(\"Enter the value of feature 'dneff1': \"))\n",
    "user_input_dneff2 = float(input(\"Enter the value of feature 'dneff2': \"))\n",
    "user_input_dneff3 = float(input(\"Enter the value of feature 'dneff3': \"))\n",
    "predicted_output = predict_output(user_input_v, user_input_dneff1,user_input_dneff2,user_input_dneff3)\n",
    "print(\"Predicted output:\", predicted_output)"
   ]
  },
  {
   "cell_type": "markdown",
   "metadata": {},
   "source": [
    "Output prediction"
   ]
  }
 ],
 "metadata": {
  "kernelspec": {
   "display_name": "base",
   "language": "python",
   "name": "python3"
  },
  "language_info": {
   "codemirror_mode": {
    "name": "ipython",
    "version": 3
   },
   "file_extension": ".py",
   "mimetype": "text/x-python",
   "name": "python",
   "nbconvert_exporter": "python",
   "pygments_lexer": "ipython3",
   "version": "3.11.5"
  }
 },
 "nbformat": 4,
 "nbformat_minor": 2
}
